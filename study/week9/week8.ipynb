{
 "cells": [
  {
   "cell_type": "code",
   "execution_count": 1,
   "id": "frequent-header",
   "metadata": {},
   "outputs": [],
   "source": [
    "max_length = 256"
   ]
  },
  {
   "cell_type": "code",
   "execution_count": 2,
   "id": "heated-firmware",
   "metadata": {},
   "outputs": [
    {
     "name": "stdout",
     "output_type": "stream",
     "text": [
      "Index(['label', 'sms'], dtype='object')\n",
      "(5572, 2)\n"
     ]
    }
   ],
   "source": [
    "import pandas as pd\n",
    "\n",
    "df = pd.read_csv('sms.tsv', sep='\\t')\n",
    "print(df.columns)\n",
    "print(df.shape)"
   ]
  },
  {
   "cell_type": "code",
   "execution_count": 3,
   "id": "herbal-baseball",
   "metadata": {},
   "outputs": [
    {
     "data": {
      "text/html": [
       "<div>\n",
       "<style scoped>\n",
       "    .dataframe tbody tr th:only-of-type {\n",
       "        vertical-align: middle;\n",
       "    }\n",
       "\n",
       "    .dataframe tbody tr th {\n",
       "        vertical-align: top;\n",
       "    }\n",
       "\n",
       "    .dataframe thead th {\n",
       "        text-align: right;\n",
       "    }\n",
       "</style>\n",
       "<table border=\"1\" class=\"dataframe\">\n",
       "  <thead>\n",
       "    <tr style=\"text-align: right;\">\n",
       "      <th></th>\n",
       "      <th>label</th>\n",
       "      <th>sms</th>\n",
       "    </tr>\n",
       "  </thead>\n",
       "  <tbody>\n",
       "    <tr>\n",
       "      <th>0</th>\n",
       "      <td>ham</td>\n",
       "      <td>Go until jurong point, crazy.. Available only ...</td>\n",
       "    </tr>\n",
       "    <tr>\n",
       "      <th>1</th>\n",
       "      <td>ham</td>\n",
       "      <td>Ok lar... Joking wif u oni...</td>\n",
       "    </tr>\n",
       "    <tr>\n",
       "      <th>2</th>\n",
       "      <td>spam</td>\n",
       "      <td>Free entry in 2 a wkly comp to win FA Cup fina...</td>\n",
       "    </tr>\n",
       "    <tr>\n",
       "      <th>3</th>\n",
       "      <td>ham</td>\n",
       "      <td>U dun say so early hor... U c already then say...</td>\n",
       "    </tr>\n",
       "    <tr>\n",
       "      <th>4</th>\n",
       "      <td>ham</td>\n",
       "      <td>Nah I don't think he goes to usf, he lives aro...</td>\n",
       "    </tr>\n",
       "  </tbody>\n",
       "</table>\n",
       "</div>"
      ],
      "text/plain": [
       "  label                                                sms\n",
       "0   ham  Go until jurong point, crazy.. Available only ...\n",
       "1   ham                      Ok lar... Joking wif u oni...\n",
       "2  spam  Free entry in 2 a wkly comp to win FA Cup fina...\n",
       "3   ham  U dun say so early hor... U c already then say...\n",
       "4   ham  Nah I don't think he goes to usf, he lives aro..."
      ]
     },
     "execution_count": 3,
     "metadata": {},
     "output_type": "execute_result"
    }
   ],
   "source": [
    "df.head()"
   ]
  },
  {
   "cell_type": "code",
   "execution_count": 4,
   "id": "resistant-modem",
   "metadata": {},
   "outputs": [
    {
     "name": "stdout",
     "output_type": "stream",
     "text": [
      "['ham', 'spam']\n"
     ]
    }
   ],
   "source": [
    "classes = sorted(set(df['label']))\n",
    "class_to_idx = {}\n",
    "print(classes)"
   ]
  },
  {
   "cell_type": "code",
   "execution_count": 5,
   "id": "threatened-circus",
   "metadata": {},
   "outputs": [],
   "source": [
    "for i, c in enumerate(classes):\n",
    "    class_to_idx.update({c:i})"
   ]
  },
  {
   "cell_type": "code",
   "execution_count": 6,
   "id": "continuous-threshold",
   "metadata": {},
   "outputs": [
    {
     "data": {
      "text/plain": [
       "{'ham': 0, 'spam': 1}"
      ]
     },
     "execution_count": 6,
     "metadata": {},
     "output_type": "execute_result"
    }
   ],
   "source": [
    "class_to_idx"
   ]
  },
  {
   "cell_type": "code",
   "execution_count": 7,
   "id": "welcome-attendance",
   "metadata": {},
   "outputs": [],
   "source": [
    "nclass = len(classes)"
   ]
  },
  {
   "cell_type": "code",
   "execution_count": 8,
   "id": "honey-elevation",
   "metadata": {},
   "outputs": [
    {
     "name": "stdout",
     "output_type": "stream",
     "text": [
      "2\n"
     ]
    }
   ],
   "source": [
    "print(nclass)"
   ]
  },
  {
   "cell_type": "code",
   "execution_count": 9,
   "id": "structured-white",
   "metadata": {},
   "outputs": [],
   "source": [
    "new_df = pd.DataFrame({'label' : df['label'],\n",
    "                      'sms' : df['sms'].str.slice(\n",
    "                          start=0, stop=max_length)})\n",
    "# 원하는 컬럼으로 데이터 정제"
   ]
  },
  {
   "cell_type": "code",
   "execution_count": 10,
   "id": "confirmed-miniature",
   "metadata": {},
   "outputs": [],
   "source": [
    "# len(new_df)"
   ]
  },
  {
   "cell_type": "code",
   "execution_count": 11,
   "id": "incident-dallas",
   "metadata": {},
   "outputs": [
    {
     "data": {
      "text/plain": [
       "5169"
      ]
     },
     "execution_count": 11,
     "metadata": {},
     "output_type": "execute_result"
    }
   ],
   "source": [
    "new_df = pd.DataFrame(new_df.drop_duplicates())\n",
    "len(new_df)"
   ]
  },
  {
   "cell_type": "code",
   "execution_count": 12,
   "id": "union-chicken",
   "metadata": {},
   "outputs": [
    {
     "data": {
      "text/html": [
       "<div>\n",
       "<style scoped>\n",
       "    .dataframe tbody tr th:only-of-type {\n",
       "        vertical-align: middle;\n",
       "    }\n",
       "\n",
       "    .dataframe tbody tr th {\n",
       "        vertical-align: top;\n",
       "    }\n",
       "\n",
       "    .dataframe thead th {\n",
       "        text-align: right;\n",
       "    }\n",
       "</style>\n",
       "<table border=\"1\" class=\"dataframe\">\n",
       "  <thead>\n",
       "    <tr style=\"text-align: right;\">\n",
       "      <th></th>\n",
       "      <th>label</th>\n",
       "      <th>sms</th>\n",
       "    </tr>\n",
       "  </thead>\n",
       "  <tbody>\n",
       "    <tr>\n",
       "      <th>0</th>\n",
       "      <td>ham</td>\n",
       "      <td>My birthday is on feb  &amp;lt;#&amp;gt;  da. .</td>\n",
       "    </tr>\n",
       "    <tr>\n",
       "      <th>1</th>\n",
       "      <td>ham</td>\n",
       "      <td>Wen ur lovable bcums angry wid u, dnt take it ...</td>\n",
       "    </tr>\n",
       "    <tr>\n",
       "      <th>2</th>\n",
       "      <td>ham</td>\n",
       "      <td>Yar i wanted 2 scold u yest but late already.....</td>\n",
       "    </tr>\n",
       "    <tr>\n",
       "      <th>3</th>\n",
       "      <td>ham</td>\n",
       "      <td>Camera quite good, 10.1mega pixels, 3optical a...</td>\n",
       "    </tr>\n",
       "    <tr>\n",
       "      <th>4</th>\n",
       "      <td>ham</td>\n",
       "      <td>Then just eat a shit and wait for ur monkey fa...</td>\n",
       "    </tr>\n",
       "  </tbody>\n",
       "</table>\n",
       "</div>"
      ],
      "text/plain": [
       "  label                                                sms\n",
       "0   ham            My birthday is on feb  &lt;#&gt;  da. .\n",
       "1   ham  Wen ur lovable bcums angry wid u, dnt take it ...\n",
       "2   ham  Yar i wanted 2 scold u yest but late already.....\n",
       "3   ham  Camera quite good, 10.1mega pixels, 3optical a...\n",
       "4   ham  Then just eat a shit and wait for ur monkey fa..."
      ]
     },
     "execution_count": 12,
     "metadata": {},
     "output_type": "execute_result"
    }
   ],
   "source": [
    "df_shuffled = new_df.sample(frac=1).reset_index(drop=True)\n",
    "df_shuffled.head()"
   ]
  },
  {
   "cell_type": "code",
   "execution_count": 13,
   "id": "flush-wrestling",
   "metadata": {},
   "outputs": [],
   "source": [
    "train_ratio = 0.9\n",
    "\n",
    "# train dataset\n",
    "s, e = 0, int(df_shuffled.shape[0] * train_ratio)\n",
    "df_train = pd.DataFrame({'label' : df_shuffled['label'][s:e],\n",
    "                        'sms' : df_shuffled['sms'][s:e]})\n",
    "\n",
    "# test dataset\n",
    "s, e = e, e + int(df_shuffled.shape[0] * (1.0 - train_ratio))\n",
    "df_test = pd.DataFrame({'label' : df_shuffled['label'][s:e],\n",
    "                        'sms' : df_shuffled['sms'][s:e]})"
   ]
  },
  {
   "cell_type": "code",
   "execution_count": 14,
   "id": "varying-millennium",
   "metadata": {},
   "outputs": [
    {
     "data": {
      "text/plain": [
       "(4652, 2)"
      ]
     },
     "execution_count": 14,
     "metadata": {},
     "output_type": "execute_result"
    }
   ],
   "source": [
    "df_train.shape"
   ]
  },
  {
   "cell_type": "code",
   "execution_count": 15,
   "id": "miniature-steam",
   "metadata": {},
   "outputs": [
    {
     "data": {
      "text/plain": [
       "(516, 2)"
      ]
     },
     "execution_count": 15,
     "metadata": {},
     "output_type": "execute_result"
    }
   ],
   "source": [
    "df_test.shape"
   ]
  },
  {
   "cell_type": "code",
   "execution_count": 16,
   "id": "human-completion",
   "metadata": {},
   "outputs": [],
   "source": [
    "df_train.to_csv('./sms.maxlen.uniq.shuf.train.tsv', header=False, index=False, sep='\\t')\n",
    "df_test.to_csv('./sms.maxlen.uniq.shuf.test.tsv', header=False, index=False, sep='\\t')"
   ]
  },
  {
   "cell_type": "code",
   "execution_count": 17,
   "id": "russian-matthew",
   "metadata": {},
   "outputs": [],
   "source": [
    "import torch"
   ]
  },
  {
   "cell_type": "code",
   "execution_count": 20,
   "id": "liked-frost",
   "metadata": {
    "scrolled": true
   },
   "outputs": [
    {
     "name": "stdout",
     "output_type": "stream",
     "text": [
      "Requirement already satisfied: torchtext in /home/jihoon/anaconda3/envs/iqn_torch/lib/python3.6/site-packages (0.4.0)\r\n",
      "Requirement already satisfied: numpy in /home/jihoon/anaconda3/envs/iqn_torch/lib/python3.6/site-packages (from torchtext) (1.19.5)\r\n",
      "Requirement already satisfied: six in /home/jihoon/anaconda3/envs/iqn_torch/lib/python3.6/site-packages (from torchtext) (1.15.0)\r\n",
      "Requirement already satisfied: tqdm in /home/jihoon/anaconda3/envs/iqn_torch/lib/python3.6/site-packages (from torchtext) (4.62.3)\r\n",
      "Requirement already satisfied: torch in /home/jihoon/anaconda3/envs/iqn_torch/lib/python3.6/site-packages (from torchtext) (1.7.1)\r\n",
      "Requirement already satisfied: requests in /home/jihoon/anaconda3/envs/iqn_torch/lib/python3.6/site-packages (from torchtext) (2.25.1)\r\n",
      "Requirement already satisfied: urllib3<1.27,>=1.21.1 in /home/jihoon/anaconda3/envs/iqn_torch/lib/python3.6/site-packages (from requests->torchtext) (1.26.3)\r\n",
      "Requirement already satisfied: certifi>=2017.4.17 in /home/jihoon/anaconda3/envs/iqn_torch/lib/python3.6/site-packages (from requests->torchtext) (2021.5.30)\r\n",
      "Requirement already satisfied: idna<3,>=2.5 in /home/jihoon/anaconda3/envs/iqn_torch/lib/python3.6/site-packages (from requests->torchtext) (2.10)\r\n",
      "Requirement already satisfied: chardet<5,>=3.0.2 in /home/jihoon/anaconda3/envs/iqn_torch/lib/python3.6/site-packages (from requests->torchtext) (4.0.0)\r\n",
      "Requirement already satisfied: typing-extensions in /home/jihoon/anaconda3/envs/iqn_torch/lib/python3.6/site-packages (from torch->torchtext) (3.7.4.3)\r\n",
      "Requirement already satisfied: dataclasses in /home/jihoon/anaconda3/envs/iqn_torch/lib/python3.6/site-packages (from torch->torchtext) (0.8)\r\n"
     ]
    }
   ],
   "source": [
    "!pip install torchtext"
   ]
  },
  {
   "cell_type": "code",
   "execution_count": 21,
   "id": "superb-iraqi",
   "metadata": {},
   "outputs": [
    {
     "ename": "ModuleNotFoundError",
     "evalue": "No module named 'torchtext'",
     "output_type": "error",
     "traceback": [
      "\u001b[0;31m---------------------------------------------------------------------------\u001b[0m",
      "\u001b[0;31mModuleNotFoundError\u001b[0m                       Traceback (most recent call last)",
      "\u001b[0;32m<ipython-input-21-ea4e439402ba>\u001b[0m in \u001b[0;36m<module>\u001b[0;34m\u001b[0m\n\u001b[0;32m----> 1\u001b[0;31m \u001b[0;32mimport\u001b[0m \u001b[0mtorchtext\u001b[0m\u001b[0;34m\u001b[0m\u001b[0;34m\u001b[0m\u001b[0m\n\u001b[0m\u001b[1;32m      2\u001b[0m \u001b[0;32mimport\u001b[0m \u001b[0mnumpy\u001b[0m \u001b[0;32mas\u001b[0m \u001b[0mnp\u001b[0m\u001b[0;34m\u001b[0m\u001b[0;34m\u001b[0m\u001b[0m\n",
      "\u001b[0;31mModuleNotFoundError\u001b[0m: No module named 'torchtext'"
     ]
    }
   ],
   "source": [
    "import torchtext\n",
    "import numpy as np"
   ]
  },
  {
   "cell_type": "code",
   "execution_count": null,
   "id": "indian-cancer",
   "metadata": {},
   "outputs": [],
   "source": []
  }
 ],
 "metadata": {
  "kernelspec": {
   "display_name": "Python 3",
   "language": "python",
   "name": "python3"
  },
  "language_info": {
   "codemirror_mode": {
    "name": "ipython",
    "version": 3
   },
   "file_extension": ".py",
   "mimetype": "text/x-python",
   "name": "python",
   "nbconvert_exporter": "python",
   "pygments_lexer": "ipython3",
   "version": "3.8.8"
  }
 },
 "nbformat": 4,
 "nbformat_minor": 5
}
